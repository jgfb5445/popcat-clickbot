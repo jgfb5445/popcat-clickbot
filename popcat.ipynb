{
 "cells": [
  {
   "cell_type": "code",
   "execution_count": 31,
   "metadata": {},
   "outputs": [],
   "source": [
    "from selenium import webdriver\n",
    "import time\n",
    "import requests\n",
    "from bs4 import BeautifulSoup \n",
    "from selenium.webdriver.common.action_chains import ActionChains\n",
    "\n",
    "chrome = webdriver.Chrome('./chromedriver')\n",
    "chrome.get(\"https://popcat.click/\")\n",
    "chrome.maximize_window()\n",
    "time.sleep(5)\n",
    "for i in range(1,1000):\n",
    "    ActionChains(chrome).move_by_offset(500, 500).click().perform()\n",
    "    ActionChains(chrome).move_by_offset(-500, -500).perform() \n",
    "    time.sleep(0.05)"
   ]
  },
  {
   "cell_type": "code",
   "execution_count": null,
   "metadata": {},
   "outputs": [],
   "source": []
  }
 ],
 "metadata": {
  "kernelspec": {
   "display_name": "Python 3",
   "language": "python",
   "name": "python3"
  },
  "language_info": {
   "codemirror_mode": {
    "name": "ipython",
    "version": 3
   },
   "file_extension": ".py",
   "mimetype": "text/x-python",
   "name": "python",
   "nbconvert_exporter": "python",
   "pygments_lexer": "ipython3",
   "version": "3.7.6"
  }
 },
 "nbformat": 4,
 "nbformat_minor": 4
}
